{
 "cells": [
  {
   "cell_type": "code",
   "execution_count": 1,
   "metadata": {},
   "outputs": [
    {
     "data": {
      "text/plain": [
       "'\\nRaiz/\\n\\timagenes/\\n\\t\\tcarpeta_con_clase_0/\\n\\t\\tcarpeta_con_clase_1/\\n\\t\\t\\t\\t.\\n\\t\\t\\t\\t.\\n\\tgenerar_base_datos.py\\n\\t----------------------\\n\\t#las respuestas se guardan en el mismo directorio del archivo .py\\n'"
      ]
     },
     "execution_count": 1,
     "metadata": {},
     "output_type": "execute_result"
    }
   ],
   "source": [
    "from PIL import Image,ImageOps\n",
    "import numpy as np\n",
    "import os\n",
    "import csv\n",
    "#Crea base de datos de imagenes generando el archivo X con las imagenes Y con la clase y P que indica a que persona esta asignado cada numero de clase\n",
    "#La estructura de archivos es\n",
    "\"\"\"\n",
    "Raiz/\n",
    "\timagenes/\n",
    "\t\tcarpeta_con_clase_0/\n",
    "\t\tcarpeta_con_clase_1/\n",
    "\t\t\t\t.\n",
    "\t\t\t\t.\n",
    "\tgenerar_base_datos.py\n",
    "\t----------------------\n",
    "\t#las respuestas se guardan en el mismo directorio del archivo .py\n",
    "\"\"\""
   ]
  },
  {
   "cell_type": "code",
   "execution_count": 2,
   "metadata": {},
   "outputs": [],
   "source": [
    "def crear_base_datos(directorio,tam):\n",
    "\tlista_arrays_imgs=list()\n",
    "\tlista_clases_imgs=list()\n",
    "\tlista_persona_clase=list()\n",
    "\tpersonas=os.listdir(directorio)\n",
    "\ti=0\n",
    "\tfor persona in personas:\n",
    "\t\tdirectorio_persona=os.path.join(directorio,persona)\n",
    "\t\tlista_imgs_personas=os.listdir(directorio_persona)\n",
    "\t\tfor nombre_img in lista_imgs_personas:\n",
    "\t\t\truta_img=os.path.join(directorio_persona,nombre_img)\n",
    "\t\t\timg=Image.open(ruta_img)\n",
    "\t\t\timg = ImageOps.grayscale(img)\n",
    "\t\t\timg=img.resize(tam)\n",
    "\t\t\timg=np.asarray(img,dtype='float64')\n",
    "\t\t\timg=img.ravel()\n",
    "\t\t\tlista_arrays_imgs.append(img)\n",
    "\t\t\tlista_clases_imgs.append([i,persona])\n",
    "\t\tlista_persona_clase.append([i,persona])\n",
    "\t\ti += 1\n",
    "\tX=np.array(lista_arrays_imgs)\n",
    "\tY=np.array(lista_clases_imgs)\n",
    "\tP=np.array(lista_persona_clase)\n",
    "\tguardar_datos_csv(X,'X.csv')\n",
    "\tguardar_datos_csv(Y,'Y.csv')\n",
    "\tguardar_datos_csv(P,'P.csv')"
   ]
  },
  {
   "cell_type": "code",
   "execution_count": 3,
   "metadata": {},
   "outputs": [],
   "source": [
    "#Guarda matrices en un archivo en formato csv\n",
    "def guardar_datos_csv(X,ruta):\n",
    "\twith open(ruta, 'w', newline='', encoding='utf-8') as csvfile:\n",
    "\t\twriter = csv.writer(csvfile)\n",
    "\t\twriter.writerows(X)"
   ]
  },
  {
   "cell_type": "code",
   "execution_count": 6,
   "metadata": {},
   "outputs": [],
   "source": [
    "tam=(50,50)\n",
    "directorio=\"imagenes\"\n",
    "crear_base_datos(directorio,tam)"
   ]
  },
  {
   "cell_type": "code",
   "execution_count": null,
   "metadata": {},
   "outputs": [],
   "source": []
  }
 ],
 "metadata": {
  "kernelspec": {
   "display_name": "Python 3",
   "language": "python",
   "name": "python3"
  },
  "language_info": {
   "codemirror_mode": {
    "name": "ipython",
    "version": 3
   },
   "file_extension": ".py",
   "mimetype": "text/x-python",
   "name": "python",
   "nbconvert_exporter": "python",
   "pygments_lexer": "ipython3",
   "version": "3.7.3"
  }
 },
 "nbformat": 4,
 "nbformat_minor": 2
}
