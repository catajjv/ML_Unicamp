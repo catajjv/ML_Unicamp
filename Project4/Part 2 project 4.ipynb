{
 "cells": [
  {
   "cell_type": "markdown",
   "metadata": {},
   "source": [
    "### Catalina Jaramillo\n",
    "### Angélica Narvaez"
   ]
  },
  {
   "cell_type": "code",
   "execution_count": 1,
   "metadata": {},
   "outputs": [],
   "source": [
    "import numpy as np\n",
    "import pandas as pd \n",
    "from scipy.io import loadmat\n",
    "import matplotlib.pyplot as plt"
   ]
  },
  {
   "cell_type": "code",
   "execution_count": 2,
   "metadata": {},
   "outputs": [],
   "source": [
    "mat = loadmat('dado3.mat')\n",
    "Y = mat['Y']\n",
    "R = mat['R']"
   ]
  },
  {
   "cell_type": "code",
   "execution_count": 3,
   "metadata": {},
   "outputs": [
    {
     "name": "stderr",
     "output_type": "stream",
     "text": [
      "C:\\Users\\cataj\\Anaconda3\\lib\\site-packages\\matplotlib\\cbook\\__init__.py:424: MatplotlibDeprecationWarning: \n",
      "Passing one of 'on', 'true', 'off', 'false' as a boolean is deprecated; use an actual boolean (True/False) instead.\n",
      "  warn_deprecated(\"2.2\", \"Passing one of 'on', 'true', 'off', 'false' as a \"\n"
     ]
    },
    {
     "data": {
      "image/png": "[encoded data removed]",
      "text/plain": [
       "<Figure size 504x504 with 1 Axes>"
      ]
     },
     "metadata": {
      "needs_background": "light"
     },
     "output_type": "display_data"
    }
   ],
   "source": [
    "plt.figure(figsize=(7,7))\n",
    "\n",
    "\n",
    "# ignoring films non rated\n",
    "bin_edges = np.arange(0.25,5.5,0.5)\n",
    "\n",
    "plt.hist(Y.flatten(),bins = bin_edges,edgecolor=\"b\",rwidth=0.8)\n",
    "plt.title('Histogram of Frequency of rating values')\n",
    "plt.xlabel('Rating Values')\n",
    "plt.ylabel('Rating Counts')\n",
    "plt.grid('True')\n",
    "\n",
    "plt.xticks(np.arange(0,5.5,0.5))\n",
    "plt.show()"
   ]
  },
  {
   "cell_type": "code",
   "execution_count": 4,
   "metadata": {},
   "outputs": [
    {
     "data": {
      "text/plain": [
       "1486126"
      ]
     },
     "execution_count": 4,
     "metadata": {},
     "output_type": "execute_result"
    }
   ],
   "source": [
    "# total of zeros in R, this is, the total films non rated for all users\n",
    "\n",
    "(R == 0).sum()"
   ]
  },
  {
   "cell_type": "code",
   "execution_count": 5,
   "metadata": {},
   "outputs": [],
   "source": [
    "#cost function\n",
    "\n",
    "def costFunction(params, Y,R, num_users, num_movies, num_features, Lambda):\n",
    "    \n",
    "    X = params[:num_movies*num_features].reshape(num_movies, num_features)\n",
    "    Theta = params[num_movies*num_features:].reshape(num_users, num_features)\n",
    "    \n",
    "    predictions = X@ Theta.T\n",
    "    err = predictions-Y\n",
    "    J = 1/2 *np.sum((err**2)*R)\n",
    "    \n",
    "    reg_X = Lambda/2 *np.sum(Theta**2)\n",
    "    reg_Theta = Lambda/2 *np.sum(X**2)\n",
    "    reg_J = J+reg_X+reg_Theta\n",
    "    \n",
    "    X_grad = err*R @ Theta\n",
    "    Theta_grad = (err*R).T @ X\n",
    "    grad = np.append(X_grad.flatten(), Theta_grad.flatten())\n",
    "    \n",
    "    reg_X_grad = X_grad + Lambda*X\n",
    "    reg_Theta_grad = Theta_grad + Lambda*Theta\n",
    "    reg_grad = np.append(reg_X_grad.flatten(),reg_Theta_grad.flatten())\n",
    "    \n",
    "    return reg_J, reg_grad, err"
   ]
  },
  {
   "cell_type": "code",
   "execution_count": 6,
   "metadata": {},
   "outputs": [],
   "source": [
    "# random initial weights \n",
    "\n",
    "def randInitializeWeights(L_in,L_out):\n",
    "    epi = (2**(1/2))/(L_in+L_out)**(1/2)\n",
    "    W = np.random.rand(L_in,L_out)*(2*epi)-epi\n",
    "    return W"
   ]
  },
  {
   "cell_type": "code",
   "execution_count": 7,
   "metadata": {},
   "outputs": [],
   "source": [
    "# normalize the ratings, to eliminate the case when some user doesnt rate film\n",
    "\n",
    "def normalizeRatings(Y, R):\n",
    "    \n",
    "    m,n = Y.shape[0], Y.shape[1]\n",
    "    Ymean = np.zeros((m,1))\n",
    "    Ynorm = np.zeros((m,n))\n",
    "    \n",
    "    for i in range(m):\n",
    "        # mean of each film\n",
    "        Ymean[i] = np.sum(Y[i,:])/np.count_nonzero(R[i,:])\n",
    "        # subtracting mean to each rated film\n",
    "        Ynorm[i,R[i,:]==1] = Y[i,R[i,:]==1] - Ymean[i]\n",
    "        \n",
    "    return Ynorm, Ymean"
   ]
  },
  {
   "cell_type": "code",
   "execution_count": 8,
   "metadata": {},
   "outputs": [],
   "source": [
    "# load names of films\n",
    "films = open('dado4.txt','r').read().split(\"\\n\")"
   ]
  },
  {
   "cell_type": "code",
   "execution_count": 9,
   "metadata": {},
   "outputs": [],
   "source": [
    "num_movies = Y.shape[0]\n",
    "num_users = Y.shape[1]\n",
    "num_features = 100\n",
    "Lambda = 0\n",
    "\n",
    "Ynorm, Ymean = normalizeRatings(Y, R)\n",
    "\n",
    "initial_params = randInitializeWeights(num_movies+num_users, num_features)"
   ]
  },
  {
   "cell_type": "markdown",
   "metadata": {},
   "source": [
    "### Optimize using conjugate gradient"
   ]
  },
  {
   "cell_type": "code",
   "execution_count": 10,
   "metadata": {},
   "outputs": [],
   "source": [
    "from scipy import optimize\n"
   ]
  },
  {
   "cell_type": "code",
   "execution_count": 11,
   "metadata": {},
   "outputs": [
    {
     "name": "stdout",
     "output_type": "stream",
     "text": [
      "Warning: Maximum number of iterations has been exceeded.\n",
      "         Current function value: 0.000540\n",
      "         Iterations: 400\n",
      "         Function evaluations: 615\n",
      "         Gradient evaluations: 615\n"
     ]
    }
   ],
   "source": [
    "# Use optimization according to normalized data\n",
    "\n",
    "args = (Ynorm,R, num_users, num_movies, num_features, Lambda)\n",
    "\n",
    "res = optimize.minimize(costFunction, initial_params, args=args, method='CG', options={'maxiter':400,'disp':True}, jac=True)"
   ]
  },
  {
   "cell_type": "code",
   "execution_count": 12,
   "metadata": {},
   "outputs": [],
   "source": [
    "# Parameters X and Theta\n",
    "\n",
    "params = res.x\n",
    "\n",
    "X = params[:num_movies*num_features].reshape(num_movies, num_features)\n",
    "Theta = params[num_movies*num_features:].reshape(num_users, num_features)"
   ]
  },
  {
   "cell_type": "code",
   "execution_count": 13,
   "metadata": {},
   "outputs": [],
   "source": [
    "# Prediction\n",
    "\n",
    "pred = X@Theta.T +Ymean\n"
   ]
  },
  {
   "cell_type": "code",
   "execution_count": 14,
   "metadata": {},
   "outputs": [
    {
     "data": {
      "text/html": [
       "<div>\n",
       "<style scoped>\n",
       "    .dataframe tbody tr th:only-of-type {\n",
       "        vertical-align: middle;\n",
       "    }\n",
       "\n",
       "    .dataframe tbody tr th {\n",
       "        vertical-align: top;\n",
       "    }\n",
       "\n",
       "    .dataframe thead th {\n",
       "        text-align: right;\n",
       "    }\n",
       "</style>\n",
       "<table border=\"1\" class=\"dataframe\">\n",
       "  <thead>\n",
       "    <tr style=\"text-align: right;\">\n",
       "      <th></th>\n",
       "      <th>Film</th>\n",
       "      <th>Predicted Mean</th>\n",
       "      <th>Real mean</th>\n",
       "    </tr>\n",
       "  </thead>\n",
       "  <tbody>\n",
       "    <tr>\n",
       "      <th>0</th>\n",
       "      <td>1189 Prefontaine (1997)</td>\n",
       "      <td>5.001232</td>\n",
       "      <td>5.0</td>\n",
       "    </tr>\n",
       "    <tr>\n",
       "      <th>1</th>\n",
       "      <td>1293 Star Kid (1997)</td>\n",
       "      <td>5.001042</td>\n",
       "      <td>5.0</td>\n",
       "    </tr>\n",
       "    <tr>\n",
       "      <th>2</th>\n",
       "      <td>1467 Saint of Fort Washington, The (1993)</td>\n",
       "      <td>5.000869</td>\n",
       "      <td>5.0</td>\n",
       "    </tr>\n",
       "    <tr>\n",
       "      <th>3</th>\n",
       "      <td>1599 Someone Else's America (1995)</td>\n",
       "      <td>5.000829</td>\n",
       "      <td>5.0</td>\n",
       "    </tr>\n",
       "    <tr>\n",
       "      <th>4</th>\n",
       "      <td>1122 They Made Me a Criminal (1939)</td>\n",
       "      <td>5.000314</td>\n",
       "      <td>5.0</td>\n",
       "    </tr>\n",
       "    <tr>\n",
       "      <th>5</th>\n",
       "      <td>1653 Entertaining Angels: The Dorothy Day Stor...</td>\n",
       "      <td>5.000226</td>\n",
       "      <td>5.0</td>\n",
       "    </tr>\n",
       "    <tr>\n",
       "      <th>6</th>\n",
       "      <td>1201 Marlene Dietrich: Shadow and Light (1996)</td>\n",
       "      <td>4.999238</td>\n",
       "      <td>5.0</td>\n",
       "    </tr>\n",
       "    <tr>\n",
       "      <th>7</th>\n",
       "      <td>1500 Santa with Muscles (1996)</td>\n",
       "      <td>4.998954</td>\n",
       "      <td>5.0</td>\n",
       "    </tr>\n",
       "    <tr>\n",
       "      <th>8</th>\n",
       "      <td>814 Great Day in Harlem, A (1994)</td>\n",
       "      <td>4.998869</td>\n",
       "      <td>5.0</td>\n",
       "    </tr>\n",
       "    <tr>\n",
       "      <th>9</th>\n",
       "      <td>1536 Aiqing wansui (1994)</td>\n",
       "      <td>4.998451</td>\n",
       "      <td>5.0</td>\n",
       "    </tr>\n",
       "  </tbody>\n",
       "</table>\n",
       "</div>"
      ],
      "text/plain": [
       "                                                Film  Predicted Mean  \\\n",
       "0                            1189 Prefontaine (1997)        5.001232   \n",
       "1                               1293 Star Kid (1997)        5.001042   \n",
       "2          1467 Saint of Fort Washington, The (1993)        5.000869   \n",
       "3                 1599 Someone Else's America (1995)        5.000829   \n",
       "4                1122 They Made Me a Criminal (1939)        5.000314   \n",
       "5  1653 Entertaining Angels: The Dorothy Day Stor...        5.000226   \n",
       "6    1201 Marlene Dietrich: Shadow and Light (1996)         4.999238   \n",
       "7                     1500 Santa with Muscles (1996)        4.998954   \n",
       "8                  814 Great Day in Harlem, A (1994)        4.998869   \n",
       "9                          1536 Aiqing wansui (1994)        4.998451   \n",
       "\n",
       "   Real mean  \n",
       "0        5.0  \n",
       "1        5.0  \n",
       "2        5.0  \n",
       "3        5.0  \n",
       "4        5.0  \n",
       "5        5.0  \n",
       "6        5.0  \n",
       "7        5.0  \n",
       "8        5.0  \n",
       "9        5.0  "
      ]
     },
     "execution_count": 14,
     "metadata": {},
     "output_type": "execute_result"
    }
   ],
   "source": [
    "real_mean = np.sum(Y*R, axis=1)/np.sum(R,axis=1)\n",
    "pred_mean = pred.mean(axis=1)\n",
    "\n",
    "df = pd.DataFrame({'Film': films, 'Predicted Mean':pred_mean, 'Real mean':real_mean})\n",
    "\n",
    "#sort the data, but inplace, this is, without create a new temporal matrix\n",
    "df.sort_values(by='Predicted Mean',ascending=False,inplace=True)\n",
    "# restart the index of data frame\n",
    "df.reset_index(drop=True,inplace=True)\n",
    "df[:10]"
   ]
  },
  {
   "cell_type": "code",
   "execution_count": 15,
   "metadata": {},
   "outputs": [
    {
     "name": "stderr",
     "output_type": "stream",
     "text": [
      "C:\\Users\\cataj\\Anaconda3\\lib\\site-packages\\matplotlib\\cbook\\__init__.py:424: MatplotlibDeprecationWarning: \n",
      "Passing one of 'on', 'true', 'off', 'false' as a boolean is deprecated; use an actual boolean (True/False) instead.\n",
      "  warn_deprecated(\"2.2\", \"Passing one of 'on', 'true', 'off', 'false' as a \"\n"
     ]
    },
    {
     "data": {
      "image/png": "[encoded data removed]",
      "text/plain": [
       "<Figure size 504x504 with 1 Axes>"
      ]
     },
     "metadata": {
      "needs_background": "light"
     },
     "output_type": "display_data"
    }
   ],
   "source": [
    "plt.figure(figsize=(7,7))\n",
    "\n",
    "bin_edges = np.arange(0,6.5,0.5)\n",
    "\n",
    "# plt.hist(np.around(real_mean,decimals=0),bins = bin_edges,edgecolor=\"red\", alpha = 0.5, label ='Real')\n",
    "# plt.hist(np.around(pred_mean,decimals=0),bins = bin_edges,edgecolor=\"blue\", alpha = 0.5, label ='Predicted')\n",
    "\n",
    "\n",
    "plt.hist(np.vstack((np.around(real_mean,decimals=0),np.around(pred_mean,decimals=0))).T,\n",
    "         bins = bin_edges,edgecolor=\"blue\", alpha = 0.5,rwidth=1, label =['Real','Predicted'])\n",
    "\n",
    "\n",
    "plt.title(\"Histogram of Frequency of mean's rating values\")\n",
    "plt.xlabel('Rating Values')\n",
    "plt.ylabel('Rating Counts')\n",
    "plt.grid('True')\n",
    "plt.legend()\n",
    "\n",
    "plt.xticks(np.arange(0.5,6.5,0.5))\n",
    "plt.show()"
   ]
  },
  {
   "cell_type": "markdown",
   "metadata": {},
   "source": [
    "## Error"
   ]
  },
  {
   "cell_type": "code",
   "execution_count": 16,
   "metadata": {},
   "outputs": [
    {
     "name": "stdout",
     "output_type": "stream",
     "text": [
      " The norm of exact error is  0.8443810314799114\n"
     ]
    }
   ],
   "source": [
    "# error\n",
    "\n",
    "err = real_mean-pred_mean\n",
    "norm_err = np.linalg.norm(err)\n",
    "\n",
    "print(' The norm of exact error is ',norm_err)"
   ]
  },
  {
   "cell_type": "code",
   "execution_count": 17,
   "metadata": {},
   "outputs": [
    {
     "name": "stdout",
     "output_type": "stream",
     "text": [
      "The percentage of films well-predicted in mean is 97.08680142687277 %\n"
     ]
    }
   ],
   "source": [
    "error2 = np.around(real_mean, decimals = 0)- np.around(pred_mean, decimals =0)\n",
    "\n",
    "print('The percentage of films well-predicted in mean is',((error2==0).sum()/len(err))*100,'%')"
   ]
  },
  {
   "cell_type": "code",
   "execution_count": null,
   "metadata": {},
   "outputs": [],
   "source": []
  }
 ],
 "metadata": {
  "kernelspec": {
   "display_name": "Python 3",
   "language": "python",
   "name": "python3"
  },
  "language_info": {
   "codemirror_mode": {
    "name": "ipython",
    "version": 3
   },
   "file_extension": ".py",
   "mimetype": "text/x-python",
   "name": "python",
   "nbconvert_exporter": "python",
   "pygments_lexer": "ipython3",
   "version": "3.7.3"
  }
 },
 "nbformat": 4,
 "nbformat_minor": 2
}
