{
 "cells": [
  
  {
   "cell_type": "code",
   "execution_count": 1,
   "metadata": {},
   "outputs": [],
   "source": [
    "import numpy as np\n",
    "from scipy.io import loadmat\n",
    "import copy\n",
    "from scipy import optimize\n",
    "import matplotlib.pyplot as plt\n",
    "import pandas as pd\n",
    "import random"
   ]
  },
  {
   "cell_type": "code",
   "execution_count": 2,
   "metadata": {},
   "outputs": [],
   "source": [
    "#import matrix\n",
    "\n",
    "mat = loadmat(\"ex3data1.mat\")\n",
    "X = mat[\"X\"]\n",
    "y = mat[\"y\"]"
   ]
  },
  {
   "cell_type": "code",
   "execution_count": 3,
   "metadata": {},
   "outputs": [],
   "source": [
    "def rearangeList(initial, final ,length):\n",
    "    finallist = []\n",
    "    answerSize = 0\n",
    "    \n",
    "    while answerSize < length:\n",
    "        r = random.randint(initial,final-1)\n",
    "        if r not in finallist:\n",
    "            answerSize += 1\n",
    "            finallist.append(r)\n",
    "    return finallist"
   ]
  },
  {
   "cell_type": "code",
   "execution_count": 4,
   "metadata": {},
   "outputs": [],
   "source": [
    "# Spliting X into 3 samples with same proportion of classes\n",
    "\n",
    "def sample(X,y, per_training, per_aval, per_test):\n",
    "    l = len(X)\n",
    "    # number of classes\n",
    "    classes = max(y)[0]\n",
    "    size_class = int(l/classes)\n",
    "    size_train = int(size_class*per_training)\n",
    "    size_aval = int(size_class*per_aval)\n",
    "    size_test = int(size_class*per_test)\n",
    "    \n",
    "    # the sample should be proportional to size of each class. In that case, each class has equal size\n",
    "    # for each class take a sample \n",
    "    \n",
    "    for i in range(classes):\n",
    "        \n",
    "        if i ==0:\n",
    "            rearange = rearangeList(i*size_class,(i+1)*size_class, size_class)\n",
    "            X_train = X[rearange[: size_train],:]\n",
    "            y_train = y[rearange[: size_train]]\n",
    "            X_aval = X[rearange[size_train: size_train+size_aval],:]\n",
    "            y_aval = y[rearange[size_train: size_train+size_aval]]\n",
    "            X_test = X[rearange[size_train+size_aval: size_train+size_aval+ size_test],:]\n",
    "            y_test = y[rearange[size_train+size_aval: size_train+size_aval+ size_test]]\n",
    "        else: \n",
    "            rearange = rearangeList(i*size_class,(i+1)*size_class, size_class)\n",
    "            X_train = np.vstack((X_train, X[rearange[: size_train],:]))\n",
    "            y_train = np.vstack((y_train , y[rearange[: size_train],:]))\n",
    "            X_aval = np.vstack((X_aval, X[rearange[size_train:size_train+size_aval],:]))\n",
    "            y_aval = np.vstack((y_aval, y[rearange[size_train: size_train+size_aval]]))\n",
    "            X_test = np.vstack((X_test, X[rearange[size_train+size_aval: size_train+size_aval+ size_test],:]))\n",
    "            y_test = np.vstack((y_test, y[rearange[size_train+size_aval:  size_train+size_aval+ size_test]]))\n",
    "    return X_train, X_aval, X_test, y_train, y_aval, y_test\n",
    "                \n",
    "    "
   ]
  },
  {
   "cell_type": "code",
   "execution_count": 5,
   "metadata": {},
   "outputs": [],
   "source": [
    "# sigmoid function\n",
    "\n",
    "def sigmoid(z):\n",
    "    return 1/(1+np.exp(-z))"
   ]
  },
  {
   "cell_type": "code",
   "execution_count": 6,
   "metadata": {},
   "outputs": [],
   "source": [
    "# Derivative of sigmoid function\n",
    "\n",
    "def sigmoidGradient(z):\n",
    "    sigmoid = 1/(1+np.exp(-z))\n",
    "    return sigmoid*(1-sigmoid)"
   ]
  },
  {
   "cell_type": "code",
   "execution_count": 7,
   "metadata": {},
   "outputs": [],
   "source": [
    "# Random initial weights of theta\n",
    "\n",
    "def randInitializeWeights(L_in,L_out):\n",
    "    epi = (2**(1/2))/(L_in+L_out)**(1/2)\n",
    "    # Recall the matrix is like in the other sense and we need to add the bais weight\n",
    "    W = np.random.rand(L_out,L_in+1)*(2*epi)-epi\n",
    "    return W"
   ]
  },
  {
   "cell_type": "code",
   "execution_count": 8,
   "metadata": {},
   "outputs": [],
   "source": [
    "# initial values of theta\n",
    "\n",
    "def initialTheta(input_layer_size, hidden_layer_size,num_labels):\n",
    "    theta = []\n",
    "    if type(hidden_layer_size)== int:\n",
    "        theta.append(randInitializeWeights(input_layer_size,hidden_layer_size))\n",
    "        theta.append(randInitializeWeights(hidden_layer_size,num_labels))\n",
    "    else:\n",
    "        k = len(hidden_layer_size)\n",
    "        for i in range(k+1):\n",
    "            if i==0:\n",
    "                theta.append(randInitializeWeights(input_layer_size, hidden_layer_size[0]))\n",
    "            elif i== k:\n",
    "                theta.append(randInitializeWeights(hidden_layer_size[k-1], num_labels))\n",
    "            else:\n",
    "                theta.append(randInitializeWeights(hidden_layer_size[i-1],hidden_layer_size[i]))\n",
    "    return theta"
   ]
  },
  {
   "cell_type": "code",
   "execution_count": 9,
   "metadata": {},
   "outputs": [],
   "source": [
    "# theta list as a flatten vector\n",
    "\n",
    "def flattenTheta(thetai, input_layer_size, hidden_layer_size, num_labels):\n",
    "    for i in range(len(thetai)):\n",
    "        if i==0:\n",
    "            theta = thetai[i].flatten()\n",
    "        else:\n",
    "            theta = np.insert(theta, len(theta), thetai[i].flatten())\n",
    "            \n",
    "    \n",
    "    return theta\n"
   ]
  },
  {
   "cell_type": "code",
   "execution_count": 10,
   "metadata": {},
   "outputs": [],
   "source": [
    "# theta list as a list\n",
    "\n",
    "def listTheta(thetai, input_layer_size, hidden_layer_size, num_labels):\n",
    "    \n",
    "    theta = []\n",
    "    \n",
    "    aux = 0\n",
    "     \n",
    "    # if there is only 1 hidden layer\n",
    "    if type(hidden_layer_size)==int:\n",
    "        theta.append(thetai[:((input_layer_size+1)*hidden_layer_size)].reshape(hidden_layer_size, input_layer_size+1))\n",
    "        theta.append(thetai[((input_layer_size+1)*hidden_layer_size):].reshape(num_labels, hidden_layer_size+1))\n",
    "        return theta\n",
    "    else:   \n",
    "        l=len(hidden_layer_size)\n",
    "        \n",
    "    # if there is more than 1 hidden layer    \n",
    "    for i in range(l+1):\n",
    "        if i==0:\n",
    "            aux = (input_layer_size+1)*hidden_layer_size[i]\n",
    "            theta.append(thetai[:aux].reshape(hidden_layer_size[i], input_layer_size+1))\n",
    "        elif i==l:\n",
    "            aux1= copy.deepcopy(aux)\n",
    "            aux = aux + (hidden_layer_size[i-1]+1)*num_labels\n",
    "            theta.append(thetai[aux1:aux].reshape(num_labels, hidden_layer_size[i-1]+1))\n",
    "        elif i>0 and i<l:\n",
    "            aux1= copy.deepcopy(aux)\n",
    "            aux = aux + (hidden_layer_size[i-1]+1)*(hidden_layer_size[i])\n",
    "            theta.append(thetai[aux1:aux].reshape(hidden_layer_size[i], hidden_layer_size[i-1]+1))\n",
    "\n",
    "    return theta"
   ]
  },
  {
   "cell_type": "code",
   "execution_count": 11,
   "metadata": {},
   "outputs": [],
   "source": [
    "def computeCost(thetai,X,y,input_layer_size, hidden_layer_size, num_labels, Lambda):\n",
    "                   \n",
    "    theta = listTheta(thetai, input_layer_size, hidden_layer_size, num_labels)\n",
    "    l=len(theta)\n",
    "    \n",
    "    m = X.shape[0]\n",
    "    # number of layers\n",
    "    \n",
    "    J = 0\n",
    "    \n",
    "    #join the vector of 1s\n",
    "    \n",
    "    X = np.hstack((np.ones([m,1]),X))\n",
    "    y10 = np.zeros([m,num_labels])\n",
    "    \n",
    "    #Activation list\n",
    "    a=[]\n",
    "\n",
    "    for i in range(l):\n",
    "        #1st activation\n",
    "        if i==0:\n",
    "            a1 = sigmoid(X @ theta[i].T)\n",
    "            a1 = np.hstack((np.ones([m,1]),a1))\n",
    "            a.append(a1)\n",
    "       \n",
    "        #final activation\n",
    "        elif i==l-1:\n",
    "            a2 = sigmoid(a[i-1] @ theta[i].T)\n",
    "            a.append(a2)\n",
    "            \n",
    "        #hidden activation\n",
    "        else:\n",
    "            a1 = sigmoid(a[i-1] @ theta[i].T)\n",
    "            a1 = np.hstack((np.ones([m,1]),a1))\n",
    "            a.append(a1)\n",
    "\n",
    "                \n",
    "    for i in range(1,num_labels+1):\n",
    "        #creates the matrix of ys, where each column is the vector of label, with 1 in position i if class=i\n",
    "    \n",
    "        ''' np.newaxis might come in handy when you want to explicitly convert a 1D array to \n",
    "            either a row vector or a column vector.\n",
    "        '''\n",
    "        y10[:,i-1][:,np.newaxis] = np.where(y==i,1,0)\n",
    "        \n",
    "    for j in range(num_labels):\n",
    "        #adding all log cost function\n",
    "        J = J - np.sum(y10[:,j]*np.log(a[l-1][:,j])+(1-y10[:,j])*np.log(1-a[l-1][:,j]))\n",
    "        \n",
    "    cost = (1/m)*J\n",
    "    \n",
    "    #regularized cost for logistic regression\n",
    "    regj = 0\n",
    "    # derivatives for each layer  \n",
    "    grad = []\n",
    "    for i in range(l):\n",
    "        regj = regj+np.sum(theta[i][:,1:]**2)   ####CHECK IF IT CAN BE CHANGED TO DOT PRODUCT.\n",
    "        grad.append(np.zeros((theta[i].shape)))\n",
    "      \n",
    "    reg_J = cost + Lambda/(2*m)*(regj)\n",
    "            \n",
    "    #computing update of thetas\n",
    "    for i in range(m):\n",
    "        xi = X[i,:]\n",
    "        \n",
    "        #activation i\n",
    "        ai= []\n",
    "        ai.append(xi)\n",
    "        \n",
    "        for j in range(l):\n",
    "            ai.append(a[j][i,:])\n",
    "       \n",
    "        # deltas \n",
    "        delta = []\n",
    "        #len(ai)=l+1\n",
    "        for j in range(l,0,-1):\n",
    "            # delta in output\n",
    "            if j==l:\n",
    "                # 1st delta\n",
    "                delta.append(ai[j]-y10[i,:])\n",
    "            \n",
    "            #delta hidden layer\n",
    "            \n",
    "            #the case of layer L-1 is different because of bias on L-1 and not bias on output\n",
    "            elif j==l-1:\n",
    "                delta.append((theta[j].T @ delta[l-j-1])*(ai[j])*(1-ai[j]))\n",
    "            \n",
    "            else: \n",
    "                #never delta(0)\n",
    "                delta.append((theta[j].T @ delta[l-j-1][1:])*(ai[j])*(1-ai[j]))\n",
    "        \n",
    "        # reverse delta because it's created by backpropagation\n",
    "        delta.reverse()\n",
    "     \n",
    "        # grad = grad anterior(layer l) + delta(layer l+1)*(a(layer l))^T \n",
    "        \n",
    "        #update grad\n",
    "        \n",
    "        for j in range(l):\n",
    "            # recall ai[j] = a[j-1]... len(ai)=l+1 because a1[0]=xi\n",
    "            if j==l-1:\n",
    "                grad[j] = grad[j] +  delta[j].T[:,np.newaxis]@ai[j][:,np.newaxis].T\n",
    "            else:\n",
    "                grad[j] = grad[j] + delta[j][1:][:,np.newaxis]@ ai[j][:,np.newaxis].T\n",
    "\n",
    "    grad_reg = []\n",
    "\n",
    "    for i in range(l):\n",
    "        grad[i] = (1/m)*grad[i]\n",
    "        grad_reg.append(grad[i]+(Lambda/m)*np.hstack((np.zeros([theta[i].shape[0],1]), theta[i][:,1:])))\n",
    "    \n",
    "\n",
    "    # flatten grad_red\n",
    "    for i in range (len(grad_reg)):\n",
    "        if i==0:\n",
    "            g1 = grad_reg[i].flatten()\n",
    "        else:\n",
    "            g1 = np.insert(g1, len(g1), grad_reg[i].flatten())\n",
    "    \n",
    "    return reg_J,g1"
   ]
  },
  {
   "cell_type": "code",
   "execution_count": 12,
   "metadata": {},
   "outputs": [],
   "source": [
    "# gradient descent \n",
    "\n",
    "def gradientDescent(X,y,theta,alpha,n_iter, Lambda, input_layer_size, hidden_layer_size,num_labels):\n",
    "    \n",
    "    #l=len(theta)\n",
    "    m = len(y)\n",
    "    J_history = []\n",
    "    \n",
    "    theta_fin = copy.deepcopy(theta)\n",
    "    \n",
    "    for i in range(n_iter):\n",
    "        #theta = np.append(theta1.flatten(),theta2.flatten())\n",
    "        #to take the regularized cost and reg gradients\n",
    "        \n",
    "        cost, grad = computeCost(theta_fin,X,y,input_layer_size,hidden_layer_size,num_labels,Lambda)\n",
    "#         for j in range(l):\n",
    "        theta_fin = theta_fin-(alpha*grad)        \n",
    "        J_history.append(cost)\n",
    "        \n",
    "    theta = listTheta(theta_fin, input_layer_size, hidden_layer_size, num_labels)\n",
    "\n",
    "    \n",
    "    return theta,J_history"
   ]
  },
  {
   "cell_type": "code",
   "execution_count": 13,
   "metadata": {},
   "outputs": [],
   "source": [
    "def prediction(X, thetai,input_layer_size,hidden_layer_size,num_labels):\n",
    "    theta = listTheta(thetai,input_layer_size,hidden_layer_size,num_labels)\n",
    "    l=len(theta)\n",
    "    m = X.shape[0]\n",
    "    X = np.hstack((np.ones([m,1]),X))\n",
    "                \n",
    "    for i in range(l):\n",
    "    #1st activation\n",
    "        if i==0:\n",
    "            a1 = sigmoid(X @ theta[i].T)\n",
    "            a1 = np.hstack((np.ones([m,1]),a1))\n",
    "\n",
    "        #final activation\n",
    "        elif i==l-1:\n",
    "            a2 = sigmoid(a1 @ theta[i].T)\n",
    "\n",
    "        #hidden activation\n",
    "        else:\n",
    "            aux=a1\n",
    "            a1 = sigmoid(aux @ theta[i].T)\n",
    "            a1 = np.hstack((np.ones([m,1]),a1))\n",
    "    \n",
    "\n",
    "    # the class is the largest value\n",
    "    return np.argmax(a2,axis=1)+1"
   ]
  },
  {
   "cell_type": "code",
   "execution_count": 14,
   "metadata": {},
   "outputs": [],
   "source": [
    "def Error(X,y,theta,input_layer_size,hidden_layer_size,num_labels):\n",
    "    m = len(X)\n",
    "    pred = prediction(X, theta,input_layer_size,hidden_layer_size,num_labels)\n",
    "    err = sum(pred[:,np.newaxis]==y)[0]\n",
    "    J = (1/(m))*(err)\n",
    "    return 1-J"
   ]
  },
  {
   "cell_type": "code",
   "execution_count": 15,
   "metadata": {},
   "outputs": [],
   "source": [
    "def htheta(X, thetai,input_layer_size,hidden_layer_size,num_labels):\n",
    "    theta = listTheta(thetai,input_layer_size,hidden_layer_size,num_labels)\n",
    "    l=len(theta)\n",
    "    m = X.shape[0]\n",
    "    X = np.hstack((np.ones([m,1]),X))\n",
    "                \n",
    "    for i in range(l):\n",
    "    #1st activation\n",
    "        if i==0:\n",
    "            a1 = sigmoid(X @ theta[i].T)\n",
    "            a1 = np.hstack((np.ones([m,1]),a1))\n",
    "\n",
    "        #final activation\n",
    "        elif i==l-1:\n",
    "            a2 = sigmoid(a1 @ theta[i].T)\n",
    "\n",
    "        #hidden activation\n",
    "        else:\n",
    "            aux=a1\n",
    "            a1 = sigmoid(aux @ theta[i].T)\n",
    "            a1 = np.hstack((np.ones([m,1]),a1))\n",
    "    \n",
    "\n",
    "    # the class is the largest value\n",
    "    return np.max(a2,axis=1)"
   ]
  },
  {
   "cell_type": "code",
   "execution_count": 16,
   "metadata": {},
   "outputs": [],
   "source": [
    "#Sampling X\n",
    "\n",
    "per_training = 0.6\n",
    "per_aval = 0.2\n",
    "per_test = 0.2\n",
    "\n",
    "X_train, X_aval, X_test, y_train, y_aval, y_test = sample(X,y,per_training,per_aval,per_test)"
   ]
  },
  {
   "cell_type": "code",
   "execution_count": 17,
   "metadata": {},
   "outputs": [],
   "source": [
    "## Initialize\n",
    "\n",
    "input_layer_size = 400\n",
    "# list of hidden layers'size\n",
    "hidden_layer_size = 25\n",
    "num_labels = 10\n",
    "\n",
    "initial_theta = initialTheta(input_layer_size,hidden_layer_size,num_labels)\n",
    "initial_theta_flatten = flattenTheta(initial_theta, input_layer_size, hidden_layer_size, num_labels)"
   ]
  },
  {
   "cell_type": "markdown",
   "metadata": {},
   "source": [
    "## Error function for training and validation\n"
   ]
  },
  {
   "cell_type": "markdown",
   "metadata": {},
   "source": [
    "\n",
    "\n",
    "$J_{train}(\\theta) = \\frac{1}{m_{train}}\\sum_{i=1}^{m_{train}} err(h_{\\theta}(x),y)$, \n",
    "\n",
    "\n",
    "$J_{validation}(\\theta) = \\frac{1}{m_{train}}\\sum_{i=1}^{m_{train}} err(h_{\\theta}(x),y)$"
   ]
  },
  {
   "cell_type": "code",
   "execution_count": 18,
   "metadata": {},
   "outputs": [],
   "source": [
    "# # Error of validation and training according to sample's size\n",
    "\n",
    "def listErrors(X, y, percentage_train, input_layer_size, hidden_layer_size, num_labels, Lambda, n_iter=400,alpha=0.8 ):\n",
    "    \n",
    "    J_train = []\n",
    "    J_aval = []\n",
    "    \n",
    "    for i in range(len(percentage_train)):\n",
    "        initial_theta = initialTheta(input_layer_size,hidden_layer_size,num_labels)\n",
    "        initial_theta_f = flattenTheta(initial_theta,input_layer_size,hidden_layer_size,num_labels)\n",
    "        X_train, X_aval, X_test, y_train, y_aval, y_test = sample(X,y, percentage_train[i], 1-percentage_train[i], 0)\n",
    "        theta, J_history = gradientDescent(X_train,y_train, initial_theta_f, alpha ,n_iter, Lambda,input_layer_size, hidden_layer_size, num_labels)\n",
    "        theta_f = flattenTheta(theta,input_layer_size,hidden_layer_size,num_labels)\n",
    "        pred = prediction(X_train, theta_f,input_layer_size,hidden_layer_size,num_labels)\n",
    "        pred2 = prediction(X_aval, theta_f,input_layer_size,hidden_layer_size,num_labels)\n",
    "        Jt = 1-sum(pred[:,np.newaxis]==y_train)[0]/len(y_train)\n",
    "        Ja = 1-sum(pred2[:,np.newaxis]==y_aval)[0]/len(y_aval)\n",
    "        J_train.append(Jt)        \n",
    "        J_aval.append(Ja)\n",
    "    return J_train,J_aval"
   ]
  },
  {
   "cell_type": "code",
   "execution_count": 19,
   "metadata": {},
   "outputs": [],
   "source": [
    "#  Error according to a\n",
    "percentage_train = [0.55,0.6,0.65,0.7,0.8,0.9]\n",
    "Lambda = 1\n",
    "J_train, J_aval = listErrors(X, y, percentage_train, input_layer_size, hidden_layer_size, num_labels, Lambda, 500, 0.8 )"
   ]
  },
  {
   "cell_type": "code",
   "execution_count": 20,
   "metadata": {},
   "outputs": [
    {
     "data": {
      "image/png": "[encoded data removed]",
      "text/plain": [
       "<Figure size 576x576 with 1 Axes>"
      ]
     },
     "metadata": {
      "needs_background": "light"
     },
     "output_type": "display_data"
    }
   ],
   "source": [
    "size_train = len(X)*percentage_train\n",
    "fig = plt.figure(figsize=(8,8))\n",
    "plt.plot([len(X)*i for i in percentage_train], J_train, label = 'Treino')\n",
    "plt.plot([len(X)*i for i in percentage_train], J_aval, label = 'Validação')\n",
    "plt.ylabel('Erro',size=15)  \n",
    "plt.xlabel(\"Tamanho da amostra de treino  \",size=15)\n",
    "plt.legend()\n",
    "# plt.tick_params(left=False,  labelleft=False)\n",
    "plt.title('Custo de treino vs custo de validação para lambda=%i'%Lambda,size=17)\n",
    "plt.xticks(size=15)\n",
    "plt.legend(fontsize=15)\n",
    "plt.yticks(size=15)\n",
    "plt.grid()\n",
    "plt.show()"
   ]
  },
  {
   "cell_type": "markdown",
   "metadata": {},
   "source": [
    "## The best $\\lambda$"
   ]
  },
  {
   "cell_type": "code",
   "execution_count": 21,
   "metadata": {},
   "outputs": [],
   "source": [
    "def listLambdas(X, y, percentage_train, input_layer_size, hidden_layer_size, num_labels, Lambdas, n_iter=400,alpha=0.8 ):\n",
    "    \n",
    "    J_aval = []\n",
    "    X_train, X_aval, X_test, y_train, y_aval, y_test = sample(X,y, percentage_train, 1-percentage_train, 0) \n",
    "    theta_f = initial_theta_flatten\n",
    "    \n",
    "    for i in range(len(Lambdas)):\n",
    "        theta, J_history = gradientDescent(X_train,y_train, theta_f, alpha ,n_iter, Lambdas[i],input_layer_size, hidden_layer_size, num_labels)\n",
    "        theta_f = flattenTheta(theta,input_layer_size,hidden_layer_size,num_labels)\n",
    "        Ja = Error(X_aval, y_aval, theta_f,input_layer_size,hidden_layer_size,num_labels)\n",
    "        J_aval.append(Ja)\n",
    "    \n",
    "    lambda_min = np.argmin(J_aval)\n",
    "    \n",
    "    return J_aval, Lambdas[lambda_min]"
   ]
  },
  {
   "cell_type": "code",
   "execution_count": 24,
   "metadata": {},
   "outputs": [
    {
     "name": "stdout",
     "output_type": "stream",
     "text": [
      "The ideal lambda is  1\n"
     ]
    }
   ],
   "source": [
    "Lambdas = [0, 0.001, 0.003, 0.01, 0.03, 0.1, 0.3, 1, 3, 10]\n",
    "training_per = 0.6\n",
    "\n",
    "J_aval_lambda , opt_lambda = listLambdas(X, y, training_per , input_layer_size, hidden_layer_size, num_labels, Lambdas, 400, 0.8 )\n",
    "\n",
    "print('The ideal lambda is ',opt_lambda)"
   ]
  },
  {
   "cell_type": "code",
   "execution_count": 27,
   "metadata": {},
   "outputs": [
    {
     "data": {
      "image/png": "[encoded data removed]",
      "text/plain": [
       "<Figure size 576x576 with 1 Axes>"
      ]
     },
     "metadata": {
      "needs_background": "light"
     },
     "output_type": "display_data"
    }
   ],
   "source": [
    "fig = plt.figure(figsize=(8,8))\n",
    "plt.plot(Lambdas, J_aval_lambda, label = 'Validation')\n",
    "plt.ylabel('Error',size=15)  \n",
    "plt.xlabel(\"Lambda  \",size=15)\n",
    "plt.legend()\n",
    "plt.title('Validation error. The ideal lambda is %i'%opt_lambda ,size=17)\n",
    "plt.legend(fontsize=15)\n",
    "plt.yticks(size=15)\n",
    "plt.grid()\n",
    "plt.show()"
   ]
  },
  {
   "cell_type": "markdown",
   "metadata": {},
   "source": [
    "### Calculate errors according to ideal lambda and best theta"
   ]
  },
  {
   "cell_type": "code",
   "execution_count": 41,
   "metadata": {},
   "outputs": [],
   "source": [
    "# Gradient Descent \n",
    "\n",
    "n_iter = 500\n",
    "alpha = 0.8\n",
    "Lambda = opt_lambda\n",
    "\n",
    "theta, J_history = gradientDescent(X_train,y_train, initial_theta_flatten, alpha ,n_iter, Lambda,input_layer_size, hidden_layer_size, num_labels)\n"
   ]
  },
  {
   "cell_type": "markdown",
   "metadata": {},
   "source": [
    "## Errors"
   ]
  },
  {
   "cell_type": "code",
   "execution_count": 42,
   "metadata": {},
   "outputs": [
    {
     "name": "stdout",
     "output_type": "stream",
     "text": [
      "Training error: 0.05166666666666675 Validation error 0.08899999999999997 Test error 0.07799999999999996\n"
     ]
    }
   ],
   "source": [
    "theta_f = flattenTheta(theta,input_layer_size,hidden_layer_size,num_labels)\n",
    "pred = Error(X_train,y_train,theta_f,input_layer_size,hidden_layer_size,num_labels)\n",
    "pred2 = Error(X_aval, y_aval, theta_f,input_layer_size,hidden_layer_size,num_labels)\n",
    "pred3 = Error(X_test, y_test, theta_f,input_layer_size,hidden_layer_size,num_labels)\n",
    "\n",
    "\n",
    "print('Training error:',pred, 'Validation error', pred2, 'Test error', pred3 )"
   ]
  },
  {
   "cell_type": "code",
   "execution_count": null,
   "metadata": {},
   "outputs": [],
   "source": []
  }
 ],
 "metadata": {
  "kernelspec": {
   "display_name": "Python 3",
   "language": "python",
   "name": "python3"
  },
  "language_info": {
   "codemirror_mode": {
    "name": "ipython",
    "version": 3
   },
   "file_extension": ".py",
   "mimetype": "text/x-python",
   "name": "python",
   "nbconvert_exporter": "python",
   "pygments_lexer": "ipython3",
   "version": "3.7.3"
  }
 },
 "nbformat": 4,
 "nbformat_minor": 2
}
